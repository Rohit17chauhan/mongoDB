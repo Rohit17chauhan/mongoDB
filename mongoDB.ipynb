{
 "cells": [
  {
   "cell_type": "code",
   "execution_count": 1,
   "id": "cf39dbeb-6bb2-4a8d-87cb-c4fe67590427",
   "metadata": {},
   "outputs": [
    {
     "data": {
      "text/plain": [
       "'Q1. What is MongoDB? Explain non-relational databases in short. In which scenarios it is preferred to use\\nMongoDB over SQL databases?'"
      ]
     },
     "execution_count": 1,
     "metadata": {},
     "output_type": "execute_result"
    }
   ],
   "source": [
    "\"\"\"Q1. What is MongoDB? Explain non-relational databases in short. In which scenarios it is preferred to use\n",
    "MongoDB over SQL databases?\"\"\""
   ]
  },
  {
   "cell_type": "code",
   "execution_count": 3,
   "id": "1b7ff977-ebb1-4b26-92e8-7902cda4a98c",
   "metadata": {},
   "outputs": [],
   "source": [
    "Ans1=\"MongoDB is a popular, open-source NoSQL database management system. It falls into the category of non-relational databases, specifically a type known as a document-oriented database,Non-relational databases, also known as NoSQL databases, are a type of database system that does not rely on the traditional tabular relational database model used by SQL databases like MySQL, PostgreSQL, or Oracle. Instead, they use various data models, such as key-value, document, column-family, or graph, to store and retrieve data,Scenarios where MongoDB is preferred over SQL databases:MongoDB is well-suited for handling unstructured or semi-structured data, such as JSON-like documents, which do not fit neatly into the rows and columns of a traditional SQL database,MongoDB can easily scale horizontally by distributing data across multiple servers, making it a good choice for applications that require high scalability and handle large volumes of data,MongoDB's flexible schema allows for faster development because you can change the structure of documents without needing to perform complex migrations or updates to the database schema.\"\n"
   ]
  },
  {
   "cell_type": "code",
   "execution_count": 4,
   "id": "b0485251-1260-4aad-8da5-f6c6c10b141d",
   "metadata": {},
   "outputs": [
    {
     "data": {
      "text/plain": [
       "\"MongoDB is a popular, open-source NoSQL database management system. It falls into the category of non-relational databases, specifically a type known as a document-oriented database,Non-relational databases, also known as NoSQL databases, are a type of database system that does not rely on the traditional tabular relational database model used by SQL databases like MySQL, PostgreSQL, or Oracle. Instead, they use various data models, such as key-value, document, column-family, or graph, to store and retrieve data,Scenarios where MongoDB is preferred over SQL databases:MongoDB is well-suited for handling unstructured or semi-structured data, such as JSON-like documents, which do not fit neatly into the rows and columns of a traditional SQL database,MongoDB can easily scale horizontally by distributing data across multiple servers, making it a good choice for applications that require high scalability and handle large volumes of data,MongoDB's flexible schema allows for faster development because you can change the structure of documents without needing to perform complex migrations or updates to the database schema.\""
      ]
     },
     "execution_count": 4,
     "metadata": {},
     "output_type": "execute_result"
    }
   ],
   "source": [
    "Ans1"
   ]
  },
  {
   "cell_type": "code",
   "execution_count": 5,
   "id": "de6d4d6b-46ea-49e4-a9f0-e36a3457db2d",
   "metadata": {},
   "outputs": [
    {
     "data": {
      "text/plain": [
       "'Q2. State and Explain the features of MongoDB.'"
      ]
     },
     "execution_count": 5,
     "metadata": {},
     "output_type": "execute_result"
    }
   ],
   "source": [
    "\"\"\"Q2. State and Explain the features of MongoDB.\"\"\""
   ]
  },
  {
   "cell_type": "code",
   "execution_count": 6,
   "id": "cad84af8-d170-427f-bbcf-2889e496ab43",
   "metadata": {},
   "outputs": [],
   "source": [
    "Ans2=\"MongoDB is a popular NoSQL database management system known for its flexibility, scalability, and ease of use. It offers a wide range of features that make it suitable for various applications. Here are some key features of MongoDB:Document-Oriented: MongoDB is a document-oriented database, which means it stores data in BSON (Binary JSON) documents. Each document can have a different structure, allowing for flexible data modeling.Schema-less: MongoDB is schema-less, meaning you can change the structure of documents on the fly. This flexibility is particularly useful in agile development environments.JSON-Like Documents: Data in MongoDB is stored in a format similar to JSON, making it easy to work with and compatible with many programming languages.\""
   ]
  },
  {
   "cell_type": "code",
   "execution_count": 7,
   "id": "60b0d62f-7ce1-4438-82eb-c78969722a50",
   "metadata": {},
   "outputs": [
    {
     "data": {
      "text/plain": [
       "'MongoDB is a popular NoSQL database management system known for its flexibility, scalability, and ease of use. It offers a wide range of features that make it suitable for various applications. Here are some key features of MongoDB:Document-Oriented: MongoDB is a document-oriented database, which means it stores data in BSON (Binary JSON) documents. Each document can have a different structure, allowing for flexible data modeling.Schema-less: MongoDB is schema-less, meaning you can change the structure of documents on the fly. This flexibility is particularly useful in agile development environments.JSON-Like Documents: Data in MongoDB is stored in a format similar to JSON, making it easy to work with and compatible with many programming languages.'"
      ]
     },
     "execution_count": 7,
     "metadata": {},
     "output_type": "execute_result"
    }
   ],
   "source": [
    "Ans2"
   ]
  },
  {
   "cell_type": "code",
   "execution_count": 8,
   "id": "284f2470-e90c-4d9b-b929-5a9e120a3177",
   "metadata": {},
   "outputs": [
    {
     "data": {
      "text/plain": [
       "'Q3. Write a code to connect MongoDB to Python. Also, create a database and a collection in MongoDB.'"
      ]
     },
     "execution_count": 8,
     "metadata": {},
     "output_type": "execute_result"
    }
   ],
   "source": [
    "\"\"\"Q3. Write a code to connect MongoDB to Python. Also, create a database and a collection in MongoDB.\"\"\""
   ]
  },
  {
   "cell_type": "code",
   "execution_count": 15,
   "id": "71d4da9a-fae5-49ea-9750-09b6cf061dfa",
   "metadata": {},
   "outputs": [],
   "source": [
    "Ans3=\" To connect to MongoDB from Python, you can use the pymongo library, which is the official Python driver for MongoDB. First, you'll need to install the pymongo library if you haven't already. You can install it using pip,Next, you can write Python code to connect to MongoDB, create a database, and create a collection within that database.\""
   ]
  },
  {
   "cell_type": "code",
   "execution_count": 16,
   "id": "2f5b6717-e2a6-48b6-9764-e078063af290",
   "metadata": {},
   "outputs": [
    {
     "data": {
      "text/plain": [
       "\" To connect to MongoDB from Python, you can use the pymongo library, which is the official Python driver for MongoDB. First, you'll need to install the pymongo library if you haven't already. You can install it using pip,Next, you can write Python code to connect to MongoDB, create a database, and create a collection within that database.\""
      ]
     },
     "execution_count": 16,
     "metadata": {},
     "output_type": "execute_result"
    }
   ],
   "source": [
    "Ans3"
   ]
  },
  {
   "cell_type": "code",
   "execution_count": 12,
   "id": "0c0293f5-8b15-4e54-a5b8-3f6f115484bf",
   "metadata": {},
   "outputs": [
    {
     "data": {
      "text/plain": [
       "'Q4. Using the database and the collection created in question number 3, write a code to insert one record,\\nand insert many records. Use the find() and find_one() methods to print the inserted record.'"
      ]
     },
     "execution_count": 12,
     "metadata": {},
     "output_type": "execute_result"
    }
   ],
   "source": [
    "\"\"\"Q4. Using the database and the collection created in question number 3, write a code to insert one record,\n",
    "and insert many records. Use the find() and find_one() methods to print the inserted record.\"\"\""
   ]
  },
  {
   "cell_type": "code",
   "execution_count": null,
   "id": "341c8c76-bdc5-4994-96fc-860745bffdad",
   "metadata": {},
   "outputs": [],
   "source": [
    "collection_database_name.insert_one()\n",
    "\n",
    "collection_database_name.insert_many()\n",
    "\n",
    "for i in collection_name.find():\n",
    "    print(i)\n",
    "    \n",
    "    \n",
    "for i in collection_name.find_one({'id':{\"$gte\":'4'}):\n",
    "                                   print(i)\n",
    "                                   \n",
    "# suppose we are taking id and 4 as a input \n"
   ]
  },
  {
   "cell_type": "code",
   "execution_count": 17,
   "id": "c91e47ba-8a62-412b-a968-ce9d7ace724f",
   "metadata": {},
   "outputs": [
    {
     "data": {
      "text/plain": [
       "' Q5. Explain how you can use the find() method to query the MongoDB database. Write a simple code to\\ndemonstrate this.'"
      ]
     },
     "execution_count": 17,
     "metadata": {},
     "output_type": "execute_result"
    }
   ],
   "source": [
    "\"\"\" Q5. Explain how you can use the find() method to query the MongoDB database. Write a simple code to\n",
    "demonstrate this.\"\"\""
   ]
  },
  {
   "cell_type": "code",
   "execution_count": 18,
   "id": "82174e11-2924-4ca3-a283-9d2218f812e4",
   "metadata": {},
   "outputs": [],
   "source": [
    "Ans5=\"The find() method in MongoDB is used to query a collection for documents that match certain criteria. It returns a cursor, which is an iterable object that you can use to iterate through the results. You can specify various query conditions using a query document. Here's how you can use the find() method to query a MongoDB database, along with a simple code example:cursor = collection.find(query, projection)\"\n"
   ]
  },
  {
   "cell_type": "code",
   "execution_count": 19,
   "id": "8a3a3dcf-87c4-41a9-84ce-9e835266d2f9",
   "metadata": {},
   "outputs": [
    {
     "data": {
      "text/plain": [
       "\"The find() method in MongoDB is used to query a collection for documents that match certain criteria. It returns a cursor, which is an iterable object that you can use to iterate through the results. You can specify various query conditions using a query document. Here's how you can use the find() method to query a MongoDB database, along with a simple code example:cursor = collection.find(query, projection)\""
      ]
     },
     "execution_count": 19,
     "metadata": {},
     "output_type": "execute_result"
    }
   ],
   "source": [
    "Ans5"
   ]
  },
  {
   "cell_type": "code",
   "execution_count": null,
   "id": "dae02fb2-8b35-49ab-94e9-0241a47cece0",
   "metadata": {},
   "outputs": [],
   "source": [
    "for i in collection_name.find():\n",
    "    print(i)"
   ]
  },
  {
   "cell_type": "code",
   "execution_count": 20,
   "id": "dba99740-a39f-41c0-b18a-dbd96aef70d1",
   "metadata": {},
   "outputs": [
    {
     "data": {
      "text/plain": [
       "' Q6. Explain the sort() method. Give an example to demonstrate sorting in MongoDB. '"
      ]
     },
     "execution_count": 20,
     "metadata": {},
     "output_type": "execute_result"
    }
   ],
   "source": [
    "\"\"\" Q6. Explain the sort() method. Give an example to demonstrate sorting in MongoDB. \"\"\""
   ]
  },
  {
   "cell_type": "code",
   "execution_count": 21,
   "id": "8d1f94ac-671a-48d1-82c1-7464b56dc2a1",
   "metadata": {},
   "outputs": [],
   "source": [
    "Ans6=\"The sort() method specifies the order in which the query returns the matching documents from the given collection. You must apply this method to the cursor before retrieving any documents from the database\""
   ]
  },
  {
   "cell_type": "code",
   "execution_count": 22,
   "id": "57b76c7f-b1ff-4ce8-89b2-d8c9e9e84bb0",
   "metadata": {},
   "outputs": [
    {
     "data": {
      "text/plain": [
       "'The sort() method specifies the order in which the query returns the matching documents from the given collection. You must apply this method to the cursor before retrieving any documents from the database'"
      ]
     },
     "execution_count": 22,
     "metadata": {},
     "output_type": "execute_result"
    }
   ],
   "source": [
    "Ans6"
   ]
  },
  {
   "cell_type": "code",
   "execution_count": null,
   "id": "0e7cbb05-e40b-4436-84da-81ed30ded0d7",
   "metadata": {},
   "outputs": [],
   "source": [
    "db.Collection_Name.sort({field_name:1 or -1})"
   ]
  },
  {
   "cell_type": "code",
   "execution_count": 23,
   "id": "bcc672ec-9e63-4ad4-92a1-3801ffe536a7",
   "metadata": {},
   "outputs": [
    {
     "data": {
      "text/plain": [
       "'Q7. Explain why delete_one(), delete_many(), and drop() is used.'"
      ]
     },
     "execution_count": 23,
     "metadata": {},
     "output_type": "execute_result"
    }
   ],
   "source": [
    "\"\"\"Q7. Explain why delete_one(), delete_many(), and drop() is used.\"\"\""
   ]
  },
  {
   "cell_type": "code",
   "execution_count": 24,
   "id": "6e373f62-ec3c-4f0f-87d5-e0146d0b6355",
   "metadata": {},
   "outputs": [],
   "source": [
    "Ans7=\"Delete_many() is used when one needs to delete more than one document. A query object containing which document to be deleted is created and is passed as the first parameter to the delete_many(),In MongoDB, a single document can be deleted by the method delete_one(). The first parameter of the method would be a query object which defines the document to be deleted. If there are multiple documents matching the filter query, only the first appeared document would be deleted,drop() method is used to drop a collection from a database. It completely removes a collection from the database and does not leave any indexes associated with the dropped collections.\""
   ]
  },
  {
   "cell_type": "code",
   "execution_count": 25,
   "id": "e1582eb7-bf7d-4c75-9bf2-ea32c27e5e32",
   "metadata": {},
   "outputs": [
    {
     "data": {
      "text/plain": [
       "'Delete_many() is used when one needs to delete more than one document. A query object containing which document to be deleted is created and is passed as the first parameter to the delete_many(),In MongoDB, a single document can be deleted by the method delete_one(). The first parameter of the method would be a query object which defines the document to be deleted. If there are multiple documents matching the filter query, only the first appeared document would be deleted,drop() method is used to drop a collection from a database. It completely removes a collection from the database and does not leave any indexes associated with the dropped collections.'"
      ]
     },
     "execution_count": 25,
     "metadata": {},
     "output_type": "execute_result"
    }
   ],
   "source": [
    "Ans7"
   ]
  },
  {
   "cell_type": "code",
   "execution_count": null,
   "id": "2dbfec25-30bf-43cc-b6f2-b0af165b92a8",
   "metadata": {},
   "outputs": [],
   "source": []
  }
 ],
 "metadata": {
  "kernelspec": {
   "display_name": "Python 3 (ipykernel)",
   "language": "python",
   "name": "python3"
  },
  "language_info": {
   "codemirror_mode": {
    "name": "ipython",
    "version": 3
   },
   "file_extension": ".py",
   "mimetype": "text/x-python",
   "name": "python",
   "nbconvert_exporter": "python",
   "pygments_lexer": "ipython3",
   "version": "3.10.8"
  }
 },
 "nbformat": 4,
 "nbformat_minor": 5
}
